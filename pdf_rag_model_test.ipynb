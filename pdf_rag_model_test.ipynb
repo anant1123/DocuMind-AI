{
 "cells": [
  {
   "cell_type": "markdown",
   "id": "51929d5e",
   "metadata": {},
   "source": [
    "# PDF RAG Model Testing Notebook\n",
    "This notebook demonstrates how to use the PDF RAG model to upload a PDF, extract text, chunk, embed, retrieve relevant chunks, and generate answers using OpenAI GPT."
   ]
  },
  {
   "cell_type": "code",
   "execution_count": null,
   "id": "c84019de",
   "metadata": {},
   "outputs": [],
   "source": [
    "# Install required packages if not already installed\n"
   ]
  },
  {
   "cell_type": "code",
   "execution_count": 1,
   "id": "ba344b95",
   "metadata": {},
   "outputs": [],
   "source": [
    "import os\n",
    "import tempfile\n",
    "import traceback\n",
    "from PyPDF2 import PdfReader\n",
    "from sentence_transformers import SentenceTransformer\n",
    "import numpy as np\n",
    "import openai"
   ]
  },
  {
   "cell_type": "code",
   "execution_count": 2,
   "id": "61a23d50",
   "metadata": {},
   "outputs": [
    {
     "data": {
      "application/vnd.jupyter.widget-view+json": {
       "model_id": "9836f619f5434ac580efc4dfe67d10c7",
       "version_major": 2,
       "version_minor": 0
      },
      "text/plain": [
       "modules.json:   0%|          | 0.00/349 [00:00<?, ?B/s]"
      ]
     },
     "metadata": {},
     "output_type": "display_data"
    },
    {
     "name": "stderr",
     "output_type": "stream",
     "text": [
      "d:\\ananconda\\envs\\globalenv\\Lib\\site-packages\\huggingface_hub\\file_download.py:143: UserWarning: `huggingface_hub` cache-system uses symlinks by default to efficiently store duplicated files but your machine does not support them in C:\\Users\\anant\\.cache\\huggingface\\hub\\models--sentence-transformers--all-MiniLM-L6-v2. Caching files will still work but in a degraded version that might require more space on your disk. This warning can be disabled by setting the `HF_HUB_DISABLE_SYMLINKS_WARNING` environment variable. For more details, see https://huggingface.co/docs/huggingface_hub/how-to-cache#limitations.\n",
      "To support symlinks on Windows, you either need to activate Developer Mode or to run Python as an administrator. In order to activate developer mode, see this article: https://docs.microsoft.com/en-us/windows/apps/get-started/enable-your-device-for-development\n",
      "  warnings.warn(message)\n"
     ]
    },
    {
     "data": {
      "application/vnd.jupyter.widget-view+json": {
       "model_id": "7276d047d4fd4e208c449b379b018f5e",
       "version_major": 2,
       "version_minor": 0
      },
      "text/plain": [
       "config_sentence_transformers.json:   0%|          | 0.00/116 [00:00<?, ?B/s]"
      ]
     },
     "metadata": {},
     "output_type": "display_data"
    },
    {
     "data": {
      "application/vnd.jupyter.widget-view+json": {
       "model_id": "34ca4f17ce914a3fbae77993b3912fef",
       "version_major": 2,
       "version_minor": 0
      },
      "text/plain": [
       "README.md: 0.00B [00:00, ?B/s]"
      ]
     },
     "metadata": {},
     "output_type": "display_data"
    },
    {
     "data": {
      "application/vnd.jupyter.widget-view+json": {
       "model_id": "584f6010853e4cf1afdcd7dbfde077bc",
       "version_major": 2,
       "version_minor": 0
      },
      "text/plain": [
       "sentence_bert_config.json:   0%|          | 0.00/53.0 [00:00<?, ?B/s]"
      ]
     },
     "metadata": {},
     "output_type": "display_data"
    },
    {
     "data": {
      "application/vnd.jupyter.widget-view+json": {
       "model_id": "055cc12a9e1a4c9989be274ac5674f70",
       "version_major": 2,
       "version_minor": 0
      },
      "text/plain": [
       "config.json:   0%|          | 0.00/612 [00:00<?, ?B/s]"
      ]
     },
     "metadata": {},
     "output_type": "display_data"
    },
    {
     "name": "stderr",
     "output_type": "stream",
     "text": [
      "Xet Storage is enabled for this repo, but the 'hf_xet' package is not installed. Falling back to regular HTTP download. For better performance, install the package with: `pip install huggingface_hub[hf_xet]` or `pip install hf_xet`\n"
     ]
    },
    {
     "data": {
      "application/vnd.jupyter.widget-view+json": {
       "model_id": "5a3047b087b541ab8cbd1e0020e8380f",
       "version_major": 2,
       "version_minor": 0
      },
      "text/plain": [
       "model.safetensors:   0%|          | 0.00/90.9M [00:00<?, ?B/s]"
      ]
     },
     "metadata": {},
     "output_type": "display_data"
    },
    {
     "data": {
      "application/vnd.jupyter.widget-view+json": {
       "model_id": "f6582e3585364e68b88e3eba9f261937",
       "version_major": 2,
       "version_minor": 0
      },
      "text/plain": [
       "tokenizer_config.json:   0%|          | 0.00/350 [00:00<?, ?B/s]"
      ]
     },
     "metadata": {},
     "output_type": "display_data"
    },
    {
     "data": {
      "application/vnd.jupyter.widget-view+json": {
       "model_id": "585a5a9b0cc341088e7dc38ed3bb19bb",
       "version_major": 2,
       "version_minor": 0
      },
      "text/plain": [
       "vocab.txt: 0.00B [00:00, ?B/s]"
      ]
     },
     "metadata": {},
     "output_type": "display_data"
    },
    {
     "data": {
      "application/vnd.jupyter.widget-view+json": {
       "model_id": "6be1fe16d6de4f858e63c1d8c6580bcb",
       "version_major": 2,
       "version_minor": 0
      },
      "text/plain": [
       "tokenizer.json: 0.00B [00:00, ?B/s]"
      ]
     },
     "metadata": {},
     "output_type": "display_data"
    },
    {
     "data": {
      "application/vnd.jupyter.widget-view+json": {
       "model_id": "bdc55da8570648a8be6258b0ed344cf9",
       "version_major": 2,
       "version_minor": 0
      },
      "text/plain": [
       "special_tokens_map.json:   0%|          | 0.00/112 [00:00<?, ?B/s]"
      ]
     },
     "metadata": {},
     "output_type": "display_data"
    },
    {
     "data": {
      "application/vnd.jupyter.widget-view+json": {
       "model_id": "ea6649287c964158987e76b19083c28b",
       "version_major": 2,
       "version_minor": 0
      },
      "text/plain": [
       "config.json:   0%|          | 0.00/190 [00:00<?, ?B/s]"
      ]
     },
     "metadata": {},
     "output_type": "display_data"
    }
   ],
   "source": [
    "# Load embedding model\n",
    "embedder = SentenceTransformer('all-MiniLM-L6-v2')"
   ]
  },
  {
   "cell_type": "code",
   "execution_count": 3,
   "id": "d8334aa8",
   "metadata": {},
   "outputs": [],
   "source": [
    "def extract_text_from_pdf(pdf_path):\n",
    "    try:\n",
    "        reader = PdfReader(pdf_path)\n",
    "        text = ''\n",
    "        for page in reader.pages:\n",
    "            text += page.extract_text() or ''\n",
    "        return text\n",
    "    except Exception as e:\n",
    "        raise RuntimeError(f'Failed to extract text: {str(e)}')"
   ]
  },
  {
   "cell_type": "code",
   "execution_count": 4,
   "id": "6cddc580",
   "metadata": {},
   "outputs": [],
   "source": [
    "def chunk_text(text, chunk_size=500):\n",
    "    words = text.split()\n",
    "    return [' '.join(words[i:i+chunk_size]) for i in range(0, len(words), chunk_size)]"
   ]
  },
  {
   "cell_type": "code",
   "execution_count": 5,
   "id": "2ba8901f",
   "metadata": {},
   "outputs": [],
   "source": [
    "def embed_chunks(chunks):\n",
    "    try:\n",
    "        embeddings = embedder.encode(chunks)\n",
    "        return embeddings\n",
    "    except Exception as e:\n",
    "        raise RuntimeError(f'Embedding failed: {str(e)}')"
   ]
  },
  {
   "cell_type": "code",
   "execution_count": 6,
   "id": "301a24ff",
   "metadata": {},
   "outputs": [],
   "source": [
    "def retrieve_relevant_chunks(question, pdf_chunks, pdf_embeddings, top_k=3):\n",
    "    try:\n",
    "        question_embedding = embedder.encode([question])[0]\n",
    "        similarities = np.dot(pdf_embeddings, question_embedding)\n",
    "        top_indices = np.argsort(similarities)[-top_k:][::-1]\n",
    "        return [pdf_chunks[i] for i in top_indices]\n",
    "    except Exception as e:\n",
    "        raise RuntimeError(f'Retrieval failed: {str(e)}')"
   ]
  },
  {
   "cell_type": "code",
   "execution_count": 18,
   "id": "e449e8b3",
   "metadata": {},
   "outputs": [],
   "source": [
    "import requests\n",
    "import os\n",
    "\n",
    "def generate_answer(question, context):\n",
    "    try:\n",
    "        api_key = \"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\"\n",
    "        if not api_key:\n",
    "            raise RuntimeError(\"GROQ_API_KEY environment variable is not set. Please set your Groq API key.\")\n",
    "        url = \"https://api.groq.com/openai/v1/chat/completions\"\n",
    "        headers = {\n",
    "            \"Authorization\": f\"Bearer {api_key}\",\n",
    "            \"Content-Type\": \"application/json\"\n",
    "        }\n",
    "        payload = {\n",
    "            \"model\": \"llama3-8b-8192\",  # You can change to llama2-70b-4096 or gemma-7b-it if desired\n",
    "            \"messages\": [\n",
    "                {\"role\": \"user\", \"content\": f\"Context:\\n{context}\\n\\nQuestion: {question}\\nAnswer:\"}\n",
    "            ],\n",
    "            \"max_tokens\": 300\n",
    "        }\n",
    "        response = requests.post(url, headers=headers, json=payload)\n",
    "        if response.status_code != 200:\n",
    "            raise RuntimeError(f\"Groq API error: {response.status_code} {response.text}\")\n",
    "        result = response.json()\n",
    "        return result['choices'][0]['message']['content'].strip()\n",
    "    except Exception as e:\n",
    "        raise RuntimeError(f\"Generation failed: {str(e)}\")"
   ]
  },
  {
   "cell_type": "markdown",
   "id": "be53d682",
   "metadata": {},
   "source": [
    "## Upload and Process a PDF"
   ]
  },
  {
   "cell_type": "code",
   "execution_count": 16,
   "id": "08cc755e",
   "metadata": {},
   "outputs": [
    {
     "name": "stderr",
     "output_type": "stream",
     "text": [
      "d:\\ananconda\\envs\\globalenv\\Lib\\site-packages\\torch\\nn\\modules\\module.py:1762: FutureWarning: `encoder_attention_mask` is deprecated and will be removed in version 4.55.0 for `BertSdpaSelfAttention.forward`.\n",
      "  return forward_call(*args, **kwargs)\n"
     ]
    }
   ],
   "source": [
    "# Change 'sample.pdf' to your PDF file path\n",
    "pdf_path = 'sample.pdf'\n",
    "text = extract_text_from_pdf(pdf_path)\n",
    "chunks = chunk_text(text)\n",
    "embeddings = embed_chunks(chunks)"
   ]
  },
  {
   "cell_type": "markdown",
   "id": "891e79b9",
   "metadata": {},
   "source": [
    "## Ask a Question About the PDF"
   ]
  },
  {
   "cell_type": "code",
   "execution_count": 21,
   "id": "2f541c52",
   "metadata": {},
   "outputs": [
    {
     "name": "stderr",
     "output_type": "stream",
     "text": [
      "d:\\ananconda\\envs\\globalenv\\Lib\\site-packages\\torch\\nn\\modules\\module.py:1762: FutureWarning: `encoder_attention_mask` is deprecated and will be removed in version 4.55.0 for `BertSdpaSelfAttention.forward`.\n",
      "  return forward_call(*args, **kwargs)\n"
     ]
    },
    {
     "name": "stdout",
     "output_type": "stream",
     "text": [
      "Answer: There is no mention of the weather in the text provided. The text appears to be a excerpt from the Constitution of India, and it does not contain any information about the weather.\n"
     ]
    }
   ],
   "source": [
    "question = input(\"Enter your question: \")\n",
    "relevant_chunks = retrieve_relevant_chunks(question, chunks, embeddings)\n",
    "context = ''.join(relevant_chunks)\n",
    "answer = generate_answer(question, context)\n",
    "print('Answer:', answer)"
   ]
  },
  {
   "cell_type": "code",
   "execution_count": null,
   "id": "93c37acb",
   "metadata": {},
   "outputs": [],
   "source": []
  },
  {
   "cell_type": "code",
   "execution_count": null,
   "id": "3e407d5f",
   "metadata": {},
   "outputs": [],
   "source": []
  }
 ],
 "metadata": {
  "kernelspec": {
   "display_name": "globalenv",
   "language": "python",
   "name": "python3"
  },
  "language_info": {
   "codemirror_mode": {
    "name": "ipython",
    "version": 3
   },
   "file_extension": ".py",
   "mimetype": "text/x-python",
   "name": "python",
   "nbconvert_exporter": "python",
   "pygments_lexer": "ipython3",
   "version": "3.11.13"
  }
 },
 "nbformat": 4,
 "nbformat_minor": 5
}
